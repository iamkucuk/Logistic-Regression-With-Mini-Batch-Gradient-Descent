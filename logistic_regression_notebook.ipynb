{
 "cells": [
  {
   "cell_type": "markdown",
   "metadata": {},
   "source": [
    "<center> \n",
    "\n",
    "# BIL 570 - MACHINE LEARNING\n",
    "\n",
    "## HOMEWORK - 1\n",
    "\n",
    "### Furkan KÜÇÜK - 181211050 </center>"
   ]
  },
  {
   "cell_type": "markdown",
   "metadata": {},
   "source": [
    "Firstly, one should import the libraries will be used in the assignment. "
   ]
  },
  {
   "cell_type": "code",
   "execution_count": 1,
   "metadata": {},
   "outputs": [],
   "source": [
    "import numpy as np\n",
    "import matplotlib.pyplot as plt"
   ]
  },
  {
   "cell_type": "markdown",
   "metadata": {},
   "source": [
    "The parameters for the assignment is below. These parameters can be adjusted as desired.\n",
    "\n",
    "#### Denotations\n",
    "- dataset_name: File name of the dataset.\n",
    "- lr: Desired learning rate. Please note that adjusting learning rate is crucial. If the learning rate is too low, the model can stuck in a local optima and/or takes long to converge. Too high learning rate obstruct the convergence.\n",
    "- batch_size: Desired batch size for mini batches.\n",
    "- n_iterations: Maximum number of iterations if no convergence is detected.\n",
    "- patience: Desired patience level for convergence detection. The usage of this parameter is explained at the corresponding markdown section.\n",
    "- min_delta: Desired threshold level for convergence detection. The usage of this parameter is explained at the corresponding markdown section.\n",
    "\n",
    "P.S: Please note that dataset file should be located at the root directory of this notebook file."
   ]
  },
  {
   "cell_type": "code",
   "execution_count": 2,
   "metadata": {},
   "outputs": [],
   "source": [
    "dataset_name = \"ionosphere.data\"\n",
    "\n",
    "lr = .1\n",
    "batch_size = 16\n",
    "n_iterations = 10000\n",
    "\n",
    "patience = 2\n",
    "min_delta = 1e-2"
   ]
  },
  {
   "cell_type": "markdown",
   "metadata": {},
   "source": [
    "Development of a logistic regression model was assigned in this assignment. The general formulation of logistic regression is like the equation below.\n",
    "\n",
    "<h3><center> $ f(x) = \\sigma(\\beta_0 + \\beta_1 * x_1 + \\beta_2 * x_2 + ... + \\beta_n * x_n) $ </center></h3>\n",
    "\n",
    "\n",
    "The equation above refers to a set of parameters($\\beta_i$) being multiplied by predictors (also known as features) from each example and going through from an activation function which is called \"sigmoid\" function.\n",
    "\n",
    "Logistic regression is a method that is being used for classification. It uses a similar (but not the same) mathematical approach as linear regression method. Each example in dataset is expected to have some number of predictors and a class value. Predictors are the inputs of constructed function that will be used for make predictions. They are being expected to contain valuable information about class predictions each example belongs to. In this assignment this class values are binary as datasets contain only 2 different classes. \n",
    "\n",
    "As mentioned before, logistic regression is a method for classification. Hence, it is expected to output a value which is a probability. Because of that reason, unlike linear regression, an activation function called \"sigmoid function\" is employed for the output. Mathematical expression of the sigmoid function is shown below.\n",
    "\n",
    "<h3><center> $ h(z) =  \\frac{\\mathrm{1} }{\\mathrm{1} + e^{-z} }  $ </center></h3>\n",
    "\n",
    "The sigmoid function is implemented as a lambda function which is located at below."
   ]
  },
  {
   "cell_type": "code",
   "execution_count": 3,
   "metadata": {},
   "outputs": [],
   "source": [
    "sigmoid = lambda z : 1 / (1 + np.exp(-z))"
   ]
  },
  {
   "cell_type": "markdown",
   "metadata": {},
   "source": [
    "A loss function should be implemented for the training process. A loss function is used for measuring how good a trained model performing. Logarithmic loss (log-likelihood) function is implemented for this assignment. Logarithmic loss function is widely employed for classification tasks because of ease of computation and being a good measure for how confident the model of its predictions. Logarithmic loss function is implemented as a lambda function which can be seen below."
   ]
  },
  {
   "cell_type": "code",
   "execution_count": 4,
   "metadata": {},
   "outputs": [],
   "source": [
    "logloss = lambda y_hat, y : np.sum(-y * np.log(y_hat) - (1 - y) * np.log(1 - y_hat)) / len(y_hat)"
   ]
  },
  {
   "cell_type": "markdown",
   "metadata": {},
   "source": [
    "Gradient descent is widely used for any kind of model training task. Gradient descent method simply computes the gradients of the predictors, and that computed gradients is used for moving towards an optimal solution. The gradient descent function can be constructed from the derivative of the model function for each predictor. The simplifed version of computed gradients is shown in the equation below.\n",
    "\n",
    "<h3><center> $ \\frac{\\delta J(\\beta)}{\\delta\\beta_p} = \\frac{1}{m} * X^T(\\sigma(X * \\beta) - y)$ </center></h3>\n",
    "\n",
    "The equation above is a vectorized implementation of partial derivations (gradients) of each predictors which is meant to make the computation process faster. For the sake of computational speed enhancement, all gradients are calculated in a single series of matrix operations. \"y\" denotes the ground truth obtained from dataset and \"m\" denotes the number of samples.\n",
    "\n",
    "Calculated gradients are multiplied with a factor which is called \"learning rate\" in order to make sure the model is learning at a desired speed and summed or substracted with the current predictors(depends on if it's a maximization or minimization task). Increasing learning rate too much may lead the model not to learn. Decreasing it too much may cause a slow learning rate and in some conditions (non-convex loss for the given dataset) may lead to converge to a local optima.\n",
    "\n",
    "The implemented gradient descent method is located at below."
   ]
  },
  {
   "cell_type": "code",
   "execution_count": 5,
   "metadata": {},
   "outputs": [],
   "source": [
    "def gradient_descent(X, y, beta, lr):\n",
    "    y = y.reshape(-1, 1)\n",
    "    gradients = np.dot(X.T, sigmoid(np.dot(X, beta.T)) - y) / len(y)\n",
    "    new_betas = beta - lr * gradients.T\n",
    "\n",
    "    return new_betas"
   ]
  },
  {
   "cell_type": "markdown",
   "metadata": {},
   "source": [
    "In the assignment it's been told that a mini-batch gradient descent should be employed. With this method, instead of calculating gradients for the full dataset, the given dataset is divided into batches. Each batch contains the same number of samples. Thus, one should split the dataset into mini-batches for the learning process. The function implemented for preparing batches task is located at below."
   ]
  },
  {
   "cell_type": "code",
   "execution_count": 6,
   "metadata": {},
   "outputs": [],
   "source": [
    "def prepare_batches(X, y, batch_size):\n",
    "    X_batch_list = list()\n",
    "    y_batch_list = list()\n",
    "    \n",
    "    for i in range(len(y) // batch_size):\n",
    "        X_batch_list.append(X[i * batch_size : i * batch_size + batch_size, :])\n",
    "        y_batch_list.append(y[i * batch_size : i * batch_size + batch_size])\n",
    "    \n",
    "    if len(y) % batch_size > 0:\n",
    "        X_batch_list.append(X[len(y) // batch_size * batch_size:, :])\n",
    "        y_batch_list.append(y[len(y) // batch_size * batch_size:])\n",
    "\n",
    "    return X_batch_list, y_batch_list"
   ]
  },
  {
   "cell_type": "markdown",
   "metadata": {},
   "source": [
    "In order to make predictions after the training process, a prediction function should be implemented. Since the model outputs a probability, one can determine a threshold at 0.5 and predict 1 if the predicted probability greater than that threshold and predict 0 if it's the otherwise. The implementation of prediction function is located at below. "
   ]
  },
  {
   "cell_type": "code",
   "execution_count": 7,
   "metadata": {},
   "outputs": [],
   "source": [
    "predict = lambda X: sigmoid(np.dot(X, betas.T)) > .5\n",
    "predict_with_output = lambda X: (X > .5) * 1"
   ]
  },
  {
   "cell_type": "markdown",
   "metadata": {},
   "source": [
    "Before the training process, the dataset should be imported. The code for importing dataset is located below. The code below can successfully import any dataset that has the same structure with the datasets given. \n",
    "\n",
    "P.S: Please note that the ground truth of each dataset can vary. Since it's known that both of the datasets consist binary classes, a function called \"encoder\" is employed to cast the dataset char into 0 and 1 values."
   ]
  },
  {
   "cell_type": "code",
   "execution_count": 8,
   "metadata": {},
   "outputs": [],
   "source": [
    "f = open(dataset_name, \"r\")\n",
    "\n",
    "X = list()\n",
    "y = list()\n",
    "\n",
    "encode_char = \"\"\n",
    "encoder = lambda y : 0 if y is encode_char else 1\n",
    "\n",
    "for row in f:\n",
    "    split_row = [x.strip() for x in row.split(',')]\n",
    "    if encode_char is \"\":\n",
    "        encode_char = split_row[-1]\n",
    "    y.append(encoder(split_row[-1]))\n",
    "    X.append([np.array(split_row[:-1]).astype(np.float)])"
   ]
  },
  {
   "cell_type": "markdown",
   "metadata": {},
   "source": [
    "If it is desired, the dataset's feature matrix and ground truth vector can be seen with the code below. For simplicity, the whole dataset is not used for this purpose. One can change the corresponding index and see other samples' feature matrices and ground truths too."
   ]
  },
  {
   "cell_type": "code",
   "execution_count": 9,
   "metadata": {},
   "outputs": [
    {
     "name": "stdout",
     "output_type": "stream",
     "text": [
      "[array([ 1.     ,  0.     ,  0.99539, -0.05889,  0.85243,  0.02306,\n",
      "        0.83398, -0.37708,  1.     ,  0.0376 ,  0.85243, -0.17755,\n",
      "        0.59755, -0.44945,  0.60536, -0.38223,  0.84356, -0.38542,\n",
      "        0.58212, -0.32192,  0.56971, -0.29674,  0.36946, -0.47357,\n",
      "        0.56811, -0.51171,  0.41078, -0.46168,  0.21266, -0.3409 ,\n",
      "        0.42267, -0.54487,  0.18641, -0.453  ])]\n",
      "0\n"
     ]
    }
   ],
   "source": [
    "print(X[0])\n",
    "print(y[0])"
   ]
  },
  {
   "cell_type": "markdown",
   "metadata": {},
   "source": [
    "The dataset should be divided into 2 sub-datasets, training and test datasets. Before the division process, the dataset is shuffled in order to ensure both datasets contain samples from both of the classes.\n",
    "\n",
    "2 sub-datasets are also divided into 2 new sets, feature matrix and ground truth vector."
   ]
  },
  {
   "cell_type": "code",
   "execution_count": 10,
   "metadata": {},
   "outputs": [],
   "source": [
    "permutations = np.random.permutation(len(X))\n",
    "\n",
    "X, y = np.asarray(X).squeeze(), np.asarray(y)\n",
    "\n",
    "X = X[permutations, :]\n",
    "y = y[permutations]\n",
    "\n",
    "#To add beta 0\n",
    "temp = np.ones((X.shape[0], X.shape[1] + 1))\n",
    "temp[:, 1:] = X\n",
    "X = temp\n",
    "\n",
    "len_test = len(X) // 5 \n",
    "len_train = len(X) - len_test\n",
    "X_test, y_test, X_train, y_train = X[:len_test, :], y[:len_test], X[len_test:, :], y[len_test:]"
   ]
  },
  {
   "cell_type": "markdown",
   "metadata": {},
   "source": [
    "Please note that the integer of \"1\" is padded at the beggining of the dataset. This can be an efficient implementation for calculating the $\\beta_0$ predictor since that implementation requires one less sum. (For example, without the padding process, prediction function should be like \"predict = lambda X: sigmoid(np.dot(X, betas.T) + beta_zero) > .5\") "
   ]
  },
  {
   "cell_type": "markdown",
   "metadata": {},
   "source": [
    "The shapes of the constructed predictor matrices and ground truth vectors can be seen with the code below. It is a good practice to check the outputs and matrix shapes before moving on. Desired samples' predictor vector and ground truth can also be seen with the code below. "
   ]
  },
  {
   "cell_type": "code",
   "execution_count": 11,
   "metadata": {},
   "outputs": [
    {
     "name": "stdout",
     "output_type": "stream",
     "text": [
      "Shape of X matrix is: (351, 35)\n",
      "Shape of y matrix is: (351,)\n",
      "Shape of X_test matrix is: (351, 35)\n",
      "Shape of y_test matrix is: (351, 35)\n",
      "Shape of X_train matrix is: (351, 35)\n",
      "Shape of y_train matrix is: (351, 35)\n",
      "Desired samples feature vector: [ 1.       1.       0.       0.90116  0.16607  0.79299  0.37379  0.7299\n",
      "  0.50515  0.59784  0.72997  0.44303  0.81152  0.24412  0.87493  0.06438\n",
      "  0.85038 -0.12611  0.87396 -0.28739  0.79617 -0.46635  0.65924 -0.57135\n",
      "  0.53805 -0.68159  0.39951 -0.71844  0.25835 -0.72369  0.11218 -0.71475\n",
      " -0.05525 -0.67699 -0.19904]\n",
      "Desired samples ground truth: 0\n"
     ]
    }
   ],
   "source": [
    "print(\"Shape of X matrix is: \" + str(X.shape))\n",
    "print(\"Shape of y matrix is: \" + str(y.shape))\n",
    "print(\"Shape of X_test matrix is: \" + str(X.shape))\n",
    "print(\"Shape of y_test matrix is: \" + str(X.shape))\n",
    "print(\"Shape of X_train matrix is: \" + str(X.shape))\n",
    "print(\"Shape of y_train matrix is: \" + str(X.shape))\n",
    "\n",
    "print(\"Desired samples feature vector: \" + str(X[2]))\n",
    "print(\"Desired samples ground truth: \" + str(y[2]))"
   ]
  },
  {
   "cell_type": "markdown",
   "metadata": {},
   "source": [
    "The initialization of predictors should be before the training process. There are various types of initialization for predictors in the literature. One can simply initialize the predictors with uniform random decimals ranging from 0 to 1. In this implementation, a uniform random initialization is employed as below."
   ]
  },
  {
   "cell_type": "code",
   "execution_count": 12,
   "metadata": {},
   "outputs": [],
   "source": [
    "betas = np.random.random(X.shape[1]).reshape(1, -1)"
   ]
  },
  {
   "cell_type": "markdown",
   "metadata": {},
   "source": [
    "Employed strategy to stop-training is as follows:\n",
    "- Collect test error values for each iteration.\n",
    "- Average test error values collected from a full pass of the whole train set (simply for all mini batches). This process might be necessary since mini-batch gradient descent can cause small oscilations.\n",
    "- Observe that average for each whole train pass if it's changed for a desired minimum delta over iterations or not. \n",
    "- If it's not, wait for a patience number to see if it's decreased further.\n",
    "- If the patience number is exceeded, assume the model as it's converged to an optimum point.\n",
    "\n",
    "The trained model is expected to generalize the data well and will be tested on the test dataset. Obviously, training procedure for model is being conducted on train dataset. However, the model can overfit on the training dataset and this condition should be checked since it prevents the model to generalize the data. Hence, in training stage, the model should have no relation for training since the model will be tested on the test set if it generalized the data well or not.\n",
    "\n",
    "The training process is as follows:\n",
    "- Mini batches preperation\n",
    "- Iteration phase:\n",
    "    - Calculation of new predictors with gradient descent for each mini batch.\n",
    "    - Calculation of models current error with logloss function with train set\n",
    "    - Calculation of models current error with logloss function with test set\n",
    "    - Check if the model is converged with the employed stop-training strategy.\n",
    "    - If the model convergance takes a large number of iteration, stop it at a desired iteration number.\n",
    "    \n",
    "The code is located below."
   ]
  },
  {
   "cell_type": "code",
   "execution_count": 13,
   "metadata": {},
   "outputs": [],
   "source": [
    "train_error_hist = list()\n",
    "test_error_hist = list()\n",
    "test_acc_hist = list()\n",
    "\n",
    "X_batch_list, y_batch_list = prepare_batches(X_train, y_train, batch_size)\n",
    "\n",
    "n_batches = len(y_batch_list)\n",
    "\n",
    "prev_average = 10000\n",
    "\n",
    "patience_counter = 0\n",
    "iteration_counter = 0 \n",
    "while iteration_counter < n_iterations:\n",
    "    for i in range(n_batches):\n",
    "        X_batch = X_batch_list[i]\n",
    "        y_batch = y_batch_list[i]\n",
    "\n",
    "        betas = gradient_descent(X_batch, y_batch, betas, lr)\n",
    "        \n",
    "        y_hat = sigmoid(np.dot(X_batch, betas.T))\n",
    "        train_error_hist.append(logloss(y_hat, y_batch) / len(y_batch))\n",
    "              \n",
    "        y_hat = sigmoid(np.dot(X_test, betas.T))\n",
    "        test_error_hist.append(logloss(y_hat, y_test) / len(y_test))\n",
    "        test_acc_hist.append(np.mean((predict_with_output(y_hat) == y_test.reshape(-1, 1)) * 1))\n",
    "          \n",
    "        iteration_counter += 1\n",
    "        \n",
    "    current_average = np.mean(train_error_hist[-n_batches:])\n",
    "        \n",
    "    if np.abs(prev_average - current_average) < min_delta:\n",
    "        patience_counter += 1\n",
    "    else:\n",
    "        patience_counter = 0\n",
    "        \n",
    "    prev_average = current_average\n",
    "    \n",
    "    if patience_counter == patience:\n",
    "        break"
   ]
  },
  {
   "cell_type": "markdown",
   "metadata": {},
   "source": [
    "The model's performance is being tracked in terms of the determined loss function during training. (\"train_error_hist\" and \"test_error_hist\") The performance plot on both sets is located below."
   ]
  },
  {
   "cell_type": "code",
   "execution_count": 14,
   "metadata": {},
   "outputs": [
    {
     "data": {
      "text/plain": [
       "<matplotlib.legend.Legend at 0x7fd0444ca908>"
      ]
     },
     "execution_count": 14,
     "metadata": {},
     "output_type": "execute_result"
    },
    {
     "data": {
      "image/png": "[encoded data removed]",
      "text/plain": [
       "<Figure size 432x288 with 1 Axes>"
      ]
     },
     "metadata": {
      "needs_background": "light"
     },
     "output_type": "display_data"
    }
   ],
   "source": [
    "plt.plot(test_error_hist)\n",
    "plt.plot(train_error_hist)\n",
    "plt.xlabel(\"#Iterations\")\n",
    "plt.ylabel(\"Total Loss\")\n",
    "plt.title(\"Loss vs Number of iterations\")\n",
    "plt.legend((\"Test error\", \"Train error\"))"
   ]
  },
  {
   "cell_type": "markdown",
   "metadata": {},
   "source": [
    "Finally, the accuracy of the model on the test dataset is located below."
   ]
  },
  {
   "cell_type": "code",
   "execution_count": 15,
   "metadata": {},
   "outputs": [
    {
     "data": {
      "text/plain": [
       "Text(0.5, 1.0, 'Accuracy vs Number of iterations')"
      ]
     },
     "execution_count": 15,
     "metadata": {},
     "output_type": "execute_result"
    },
    {
     "data": {
      "image/png": "[encoded data removed]",
      "text/plain": [
       "<Figure size 432x288 with 1 Axes>"
      ]
     },
     "metadata": {
      "needs_background": "light"
     },
     "output_type": "display_data"
    }
   ],
   "source": [
    "plt.plot(test_acc_hist)\n",
    "plt.xlabel(\"#Iterations\")\n",
    "plt.ylabel(\"Accuracy\")\n",
    "plt.title(\"Accuracy vs Number of iterations\")"
   ]
  }
 ],
 "metadata": {
  "kernelspec": {
   "display_name": "Python 3",
   "language": "python",
   "name": "python3"
  },
  "language_info": {
   "codemirror_mode": {
    "name": "ipython",
    "version": 3
   },
   "file_extension": ".py",
   "mimetype": "text/x-python",
   "name": "python",
   "nbconvert_exporter": "python",
   "pygments_lexer": "ipython3",
   "version": "3.6.8"
  }
 },
 "nbformat": 4,
 "nbformat_minor": 2
}
